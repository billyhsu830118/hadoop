{
 "cells": [
  {
   "cell_type": "raw",
   "metadata": {},
   "source": [
    "!pip install pywebhdfs"
   ]
  },
  {
   "cell_type": "raw",
   "metadata": {},
   "source": [
    "!pip install pyspark"
   ]
  },
  {
   "cell_type": "code",
   "execution_count": 1,
   "metadata": {},
   "outputs": [],
   "source": [
    "from IPython.core.interactiveshell import InteractiveShell\n",
    "InteractiveShell.ast_node_interactivity = \"all\""
   ]
  },
  {
   "cell_type": "raw",
   "metadata": {},
   "source": [
    "from IPython.display import display\n",
    "display(salaries.head())\n",
    "display(teams.head())"
   ]
  },
  {
   "cell_type": "markdown",
   "metadata": {},
   "source": [
    "# https://pythonhosted.org/pywebhdfs/"
   ]
  },
  {
   "cell_type": "code",
   "execution_count": 2,
   "metadata": {},
   "outputs": [],
   "source": [
    "import pyspark\n",
    "from pyspark.ml.feature import Word2Vec\n",
    "from pyspark.sql import SparkSession\n",
    "from pyspark import SparkConf\n",
    "from pyspark.ml import Pipeline, PipelineModel\n",
    "import os\n",
    " \n"
   ]
  },
  {
   "cell_type": "code",
   "execution_count": 3,
   "metadata": {},
   "outputs": [],
   "source": [
    "os.environ['PYSPARK_PYTHON'] = '/home/hduser/anaconda3/bin/python'\n",
    "# The value is the python command of the version required to start the master and worker in the Linux system\n",
    "os.environ['PYSPARK_DRIVER_PYTHON'] = r\"C:\\Users\\billy\\anaconda3\\python.exe\"\n",
    "# The value is the spark directory in the local windows system\n",
    "os.environ['SPARK_HOME'] = 'C:/spark'\n",
    "# The value is the local IP, and the IP required to establish a connection, to prevent connection failure when multiple network cards\n",
    "#os.environ['SPARK_LOCAL_IP'] = '192.168.56.1'\n",
    "os.environ['HADOOP_HOME'] = \"D:/hadoop-3.3.0\"\n",
    "os.environ['HADOOP_CONF_DIR'] = \"/usr/local/hadoop/etc/hadoop\""
   ]
  },
  {
   "cell_type": "code",
   "execution_count": 4,
   "metadata": {},
   "outputs": [],
   "source": [
    "conf  = pyspark.SparkConf().setAppName('sql').setMaster('spark://192.168.133.4:7077').set(\n",
    "    \"spark.submit.deployMode\",\"client\").set('spark.driver.memory','2g').set(\n",
    "        'spark.executor.memory', '2g').set('spark.executor.cores', 1).set(\n",
    "        'spark.network.timeout', 600).set('spark.executor.heartbeatInterval', 120).set(\n",
    "    'spark.cores.max', 4).set(\"spark.driver.host\",\"192.168.133.1\").set(\"spark.driver.port\",\"9999\")#.set('spark.python.profile','true')\n",
    "sc = pyspark.SparkContext(conf=conf)"
   ]
  },
  {
   "cell_type": "code",
   "execution_count": 5,
   "metadata": {},
   "outputs": [],
   "source": [
    "path = \"hdfs://192.168.133.4:9000/user/hduser/\""
   ]
  },
  {
   "cell_type": "code",
   "execution_count": 6,
   "metadata": {},
   "outputs": [],
   "source": [
    "RawUserRDD = sc.textFile(path+\"data/u.user\")"
   ]
  },
  {
   "cell_type": "code",
   "execution_count": 7,
   "metadata": {
    "scrolled": false
   },
   "outputs": [
    {
     "data": {
      "text/plain": [
       "'1|24|M|technician|85711'"
      ]
     },
     "execution_count": 7,
     "metadata": {},
     "output_type": "execute_result"
    }
   ],
   "source": [
    "RawUserRDD.first()"
   ]
  },
  {
   "cell_type": "code",
   "execution_count": 8,
   "metadata": {
    "scrolled": true
   },
   "outputs": [
    {
     "data": {
      "text/plain": [
       "['1|24|M|technician|85711',\n",
       " '2|53|F|other|94043',\n",
       " '3|23|M|writer|32067',\n",
       " '4|24|M|technician|43537',\n",
       " '5|33|F|other|15213']"
      ]
     },
     "execution_count": 8,
     "metadata": {},
     "output_type": "execute_result"
    }
   ],
   "source": [
    "RawUserRDD.take(5)"
   ]
  },
  {
   "cell_type": "code",
   "execution_count": 9,
   "metadata": {},
   "outputs": [],
   "source": [
    "userRDD = RawUserRDD.map(lambda x:x.split('|'))"
   ]
  },
  {
   "cell_type": "code",
   "execution_count": 10,
   "metadata": {},
   "outputs": [],
   "source": [
    "sqlContext = SparkSession.builder.getOrCreate()"
   ]
  },
  {
   "cell_type": "code",
   "execution_count": 11,
   "metadata": {},
   "outputs": [
    {
     "data": {
      "text/plain": [
       "[Row(userid=1, age=24, gender='M', occupation='technician', zipcode='85711'),\n",
       " Row(userid=2, age=53, gender='F', occupation='other', zipcode='94043'),\n",
       " Row(userid=3, age=23, gender='M', occupation='writer', zipcode='32067'),\n",
       " Row(userid=4, age=24, gender='M', occupation='technician', zipcode='43537'),\n",
       " Row(userid=5, age=33, gender='F', occupation='other', zipcode='15213')]"
      ]
     },
     "execution_count": 11,
     "metadata": {},
     "output_type": "execute_result"
    }
   ],
   "source": [
    "from pyspark.sql import Row\n",
    "user_Rows = userRDD.map(lambda p:\n",
    "                       Row(\n",
    "                         userid = int(p[0]),\n",
    "                            age = int(p[1]),\n",
    "                           gender=p[2],\n",
    "                           occupation=p[3],\n",
    "                           zipcode=p[4]\n",
    "                       )\n",
    "            )\n",
    "user_Rows.take(5)"
   ]
  },
  {
   "cell_type": "code",
   "execution_count": 12,
   "metadata": {},
   "outputs": [
    {
     "name": "stdout",
     "output_type": "stream",
     "text": [
      "root\n",
      " |-- userid: long (nullable = true)\n",
      " |-- age: long (nullable = true)\n",
      " |-- gender: string (nullable = true)\n",
      " |-- occupation: string (nullable = true)\n",
      " |-- zipcode: string (nullable = true)\n",
      "\n"
     ]
    }
   ],
   "source": [
    "user_df = sqlContext.createDataFrame(user_Rows)\n",
    "user_df.printSchema()"
   ]
  },
  {
   "cell_type": "code",
   "execution_count": 13,
   "metadata": {},
   "outputs": [],
   "source": [
    "user_df.registerTempTable(\"user_table\")"
   ]
  },
  {
   "cell_type": "code",
   "execution_count": 14,
   "metadata": {},
   "outputs": [
    {
     "data": {
      "text/plain": [
       "[236.0, 472.0, 661.0]"
      ]
     },
     "execution_count": 14,
     "metadata": {},
     "output_type": "execute_result"
    }
   ],
   "source": [
    "user_df.approxQuantile(\"userid\", [0.25,0.5,0.7], 0)"
   ]
  },
  {
   "cell_type": "code",
   "execution_count": 15,
   "metadata": {},
   "outputs": [
    {
     "name": "stdout",
     "output_type": "stream",
     "text": [
      "+------+---+------+-------------+-------+\n",
      "|userid|age|gender|   occupation|zipcode|\n",
      "+------+---+------+-------------+-------+\n",
      "|     1| 24|     M|   technician|  85711|\n",
      "|     2| 53|     F|        other|  94043|\n",
      "|     3| 23|     M|       writer|  32067|\n",
      "|     4| 24|     M|   technician|  43537|\n",
      "|     5| 33|     F|        other|  15213|\n",
      "|     6| 42|     M|    executive|  98101|\n",
      "|     7| 57|     M|administrator|  91344|\n",
      "|     8| 36|     M|administrator|  05201|\n",
      "|     9| 29|     M|      student|  01002|\n",
      "|    10| 53|     M|       lawyer|  90703|\n",
      "|    11| 39|     F|        other|  30329|\n",
      "|    12| 28|     F|        other|  06405|\n",
      "|    13| 47|     M|     educator|  29206|\n",
      "|    14| 45|     M|    scientist|  55106|\n",
      "|    15| 49|     F|     educator|  97301|\n",
      "|    16| 21|     M|entertainment|  10309|\n",
      "|    17| 30|     M|   programmer|  06355|\n",
      "|    18| 35|     F|        other|  37212|\n",
      "|    19| 40|     M|    librarian|  02138|\n",
      "|    20| 42|     F|    homemaker|  95660|\n",
      "+------+---+------+-------------+-------+\n",
      "only showing top 20 rows\n",
      "\n"
     ]
    }
   ],
   "source": [
    "sqlContext.sql(\"\"\"SELECT * FROM user_table\"\"\").show()"
   ]
  },
  {
   "cell_type": "code",
   "execution_count": 16,
   "metadata": {
    "scrolled": true
   },
   "outputs": [
    {
     "name": "stdout",
     "output_type": "stream",
     "text": [
      "+------+\n",
      "|counts|\n",
      "+------+\n",
      "|   943|\n",
      "+------+\n",
      "\n"
     ]
    }
   ],
   "source": [
    "sqlContext.sql(\"\"\"SELECT count(*) as counts FROM user_table\"\"\").show()"
   ]
  },
  {
   "cell_type": "code",
   "execution_count": 17,
   "metadata": {},
   "outputs": [
    {
     "name": "stdout",
     "output_type": "stream",
     "text": [
      "+------+---+------+----------+-------+\n",
      "|userid|age|gender|occupation|zipcode|\n",
      "+------+---+------+----------+-------+\n",
      "|   472| 24|     M|   student|  87544|\n",
      "|   473| 29|     M|   student|  94708|\n",
      "|   474| 51|     M| executive|  93711|\n",
      "|   475| 30|     M|programmer|  75230|\n",
      "|   476| 28|     M|   student|  60440|\n",
      "+------+---+------+----------+-------+\n",
      "\n"
     ]
    }
   ],
   "source": [
    "sqlContext.sql(\"\"\"SELECT * FROM user_table limit 5\"\"\").show()"
   ]
  },
  {
   "cell_type": "code",
   "execution_count": 18,
   "metadata": {},
   "outputs": [
    {
     "name": "stdout",
     "output_type": "stream",
     "text": [
      "+--------------+\n",
      "|(age - userid)|\n",
      "+--------------+\n",
      "|            23|\n",
      "|            51|\n",
      "|            20|\n",
      "|            20|\n",
      "|            28|\n",
      "+--------------+\n",
      "\n"
     ]
    }
   ],
   "source": [
    "sqlContext.sql(\"\"\"SELECT age-userid FROM user_table limit 5\"\"\").show()"
   ]
  },
  {
   "cell_type": "code",
   "execution_count": 19,
   "metadata": {
    "scrolled": true
   },
   "outputs": [
    {
     "data": {
      "text/html": [
       "<div>\n",
       "<style scoped>\n",
       "    .dataframe tbody tr th:only-of-type {\n",
       "        vertical-align: middle;\n",
       "    }\n",
       "\n",
       "    .dataframe tbody tr th {\n",
       "        vertical-align: top;\n",
       "    }\n",
       "\n",
       "    .dataframe thead th {\n",
       "        text-align: right;\n",
       "    }\n",
       "</style>\n",
       "<table border=\"1\" class=\"dataframe\">\n",
       "  <thead>\n",
       "    <tr style=\"text-align: right;\">\n",
       "      <th></th>\n",
       "      <th>2016</th>\n",
       "    </tr>\n",
       "  </thead>\n",
       "  <tbody>\n",
       "    <tr>\n",
       "      <th>0</th>\n",
       "      <td>-1992</td>\n",
       "    </tr>\n",
       "    <tr>\n",
       "      <th>1</th>\n",
       "      <td>-1963</td>\n",
       "    </tr>\n",
       "    <tr>\n",
       "      <th>2</th>\n",
       "      <td>-1993</td>\n",
       "    </tr>\n",
       "    <tr>\n",
       "      <th>3</th>\n",
       "      <td>-1992</td>\n",
       "    </tr>\n",
       "    <tr>\n",
       "      <th>4</th>\n",
       "      <td>-1983</td>\n",
       "    </tr>\n",
       "  </tbody>\n",
       "</table>\n",
       "</div>"
      ],
      "text/plain": [
       "   2016\n",
       "0 -1992\n",
       "1 -1963\n",
       "2 -1993\n",
       "3 -1992\n",
       "4 -1983"
      ]
     },
     "execution_count": 19,
     "metadata": {},
     "output_type": "execute_result"
    }
   ],
   "source": [
    "sqlContext.sql(\"\"\"SELECT age-2016 FROM user_table limit 5\"\"\").toPandas().rename(columns={\"(age - CAST(2016 AS BIGINT))\":\"2016\"})"
   ]
  },
  {
   "cell_type": "code",
   "execution_count": 20,
   "metadata": {},
   "outputs": [
    {
     "name": "stdout",
     "output_type": "stream",
     "text": [
      "+---+----------+\n",
      "|age|count(age)|\n",
      "+---+----------+\n",
      "| 11|         1|\n",
      "| 13|         2|\n",
      "| 14|         7|\n",
      "| 15|        41|\n",
      "| 16|        52|\n",
      "| 17|       127|\n",
      "| 18|       272|\n",
      "| 19|       754|\n",
      "| 20|      1322|\n",
      "| 21|      1487|\n",
      "| 22|      2319|\n",
      "| 23|      2798|\n",
      "| 24|      3623|\n",
      "| 25|      4208|\n",
      "| 26|      5117|\n",
      "| 27|      4655|\n",
      "| 28|      5804|\n",
      "| 29|      6117|\n",
      "| 30|      7682|\n",
      "| 31|      5121|\n",
      "+---+----------+\n",
      "only showing top 20 rows\n",
      "\n"
     ]
    }
   ],
   "source": [
    "sqlContext.sql(\"\"\"SELECT a.age,count(b.age) FROM user_table a,user_table b \n",
    "                    WHERE a.age > b.age\n",
    "                    AND a.userid < b.userid\n",
    "                    group by a.age\n",
    "                    ORDER by a.age\"\"\").show()"
   ]
  },
  {
   "cell_type": "code",
   "execution_count": 21,
   "metadata": {},
   "outputs": [
    {
     "name": "stdout",
     "output_type": "stream",
     "text": [
      "+------+---+\n",
      "|userid|age|\n",
      "+------+---+\n",
      "|     1| 24|\n",
      "|     1| 24|\n",
      "|     1| 24|\n",
      "|     1| 24|\n",
      "|     1| 24|\n",
      "|     1| 24|\n",
      "|     1| 24|\n",
      "|     1| 24|\n",
      "|     1| 24|\n",
      "|     1| 24|\n",
      "|     1| 24|\n",
      "|     1| 24|\n",
      "|     1| 24|\n",
      "|     1| 24|\n",
      "|     1| 24|\n",
      "|     1| 24|\n",
      "|     1| 24|\n",
      "|     1| 24|\n",
      "|     1| 24|\n",
      "|     1| 24|\n",
      "+------+---+\n",
      "only showing top 20 rows\n",
      "\n"
     ]
    }
   ],
   "source": [
    "sqlContext.sql(\"\"\"SELECT a.userid,a.age FROM user_table a,user_table b \"\"\").show()"
   ]
  },
  {
   "cell_type": "code",
   "execution_count": 22,
   "metadata": {},
   "outputs": [
    {
     "name": "stdout",
     "output_type": "stream",
     "text": [
      "+------+---+-------------------------------------------------------------+\n",
      "|userid|age|(CAST(sum(age) AS DOUBLE) / CAST(scalarsubquery() AS DOUBLE))|\n",
      "+------+---+-------------------------------------------------------------+\n",
      "|   481| 73|                                         0.002273364267696428|\n",
      "|   767| 70|                                         0.008813179284357386|\n",
      "|   803| 70|                                         0.008813179284357386|\n",
      "|   860| 70|                                         0.008813179284357386|\n",
      "|   559| 69|                                         0.013110772009591728|\n",
      "|   585| 69|                                         0.013110772009591728|\n",
      "|   349| 68|                                         0.017346080782286444|\n",
      "|   573| 68|                                         0.017346080782286444|\n",
      "|   211| 66|                                         0.019401451216094174|\n",
      "|   318| 65|                                          0.02547413658870792|\n",
      "|   564| 65|                                          0.02547413658870792|\n",
      "|   651| 65|                                          0.02547413658870792|\n",
      "|   423| 64|                                          0.02946030955124412|\n",
      "|   845| 64|                                          0.02946030955124412|\n",
      "|   364| 63|                                          0.03534614306623898|\n",
      "|   777| 63|                                          0.03534614306623898|\n",
      "|   858| 63|                                          0.03534614306623898|\n",
      "|   266| 62|                                          0.03920774812369593|\n",
      "|   520| 62|                                          0.03920774812369593|\n",
      "|   106| 61|                                          0.04490672978107191|\n",
      "+------+---+-------------------------------------------------------------+\n",
      "only showing top 20 rows\n",
      "\n"
     ]
    }
   ],
   "source": [
    "sqlContext.sql(\"\"\" SELECT a.userid,a.age, sum(c.age)/(SELECT sum(b.age) FROM user_table as b )\n",
    "                    FROM user_table a ,user_table c \n",
    "                    WHERE a.age <= c.age OR (a.age=c.age and a.userid = c.userid ) \n",
    "                    GROUP BY a.age , a.userid \n",
    "                    ORDER BY a.age DESC, a.userid ;\n",
    "                        \"\"\").show()"
   ]
  },
  {
   "cell_type": "code",
   "execution_count": 23,
   "metadata": {},
   "outputs": [
    {
     "name": "stdout",
     "output_type": "stream",
     "text": [
      "+------+---+-------------------------------------------------------------+\n",
      "|userid|age|(CAST(sum(age) AS DOUBLE) / CAST(scalarsubquery() AS DOUBLE))|\n",
      "+------+---+-------------------------------------------------------------+\n",
      "|   481| 73|                                         0.002273364267696428|\n",
      "|   767| 70|                                         0.008813179284357386|\n",
      "|   803| 70|                                         0.008813179284357386|\n",
      "|   860| 70|                                         0.008813179284357386|\n",
      "|   559| 69|                                         0.013110772009591728|\n",
      "|   585| 69|                                         0.013110772009591728|\n",
      "|   349| 68|                                         0.017346080782286444|\n",
      "|   573| 68|                                         0.017346080782286444|\n",
      "|   211| 66|                                         0.019401451216094174|\n",
      "|   318| 65|                                          0.02547413658870792|\n",
      "|   564| 65|                                          0.02547413658870792|\n",
      "|   651| 65|                                          0.02547413658870792|\n",
      "|   423| 64|                                          0.02946030955124412|\n",
      "|   845| 64|                                          0.02946030955124412|\n",
      "|   364| 63|                                          0.03534614306623898|\n",
      "|   777| 63|                                          0.03534614306623898|\n",
      "|   858| 63|                                          0.03534614306623898|\n",
      "|   266| 62|                                          0.03920774812369593|\n",
      "|   520| 62|                                          0.03920774812369593|\n",
      "|   106| 61|                                          0.04490672978107191|\n",
      "+------+---+-------------------------------------------------------------+\n",
      "only showing top 20 rows\n",
      "\n"
     ]
    }
   ],
   "source": [
    "sqlContext.sql(\"\"\" SELECT a.userid,a.age, sum(c.age)/(SELECT sum(b.age) FROM user_table as b )\n",
    "                    FROM user_table a ,user_table c \n",
    "                    WHERE a.age <= c.age OR (a.age=c.age and a.userid = c.userid ) \n",
    "                    GROUP BY a.age , a.userid \n",
    "                    ORDER BY a.age DESC, a.userid ;\n",
    "                        \"\"\").show()"
   ]
  },
  {
   "cell_type": "code",
   "execution_count": 24,
   "metadata": {},
   "outputs": [
    {
     "name": "stdout",
     "output_type": "stream",
     "text": [
      "+------+---+\n",
      "|userid|age|\n",
      "+------+---+\n",
      "|   481| 73|\n",
      "|   860| 70|\n",
      "|   803| 70|\n",
      "|   767| 70|\n",
      "|   585| 69|\n",
      "|   559| 69|\n",
      "|   573| 68|\n",
      "|   349| 68|\n",
      "|   211| 66|\n",
      "|   651| 65|\n",
      "|   564| 65|\n",
      "|   318| 65|\n",
      "|   845| 64|\n",
      "|   423| 64|\n",
      "|   858| 63|\n",
      "|   777| 63|\n",
      "|   364| 63|\n",
      "|   520| 62|\n",
      "|   266| 62|\n",
      "|   934| 61|\n",
      "+------+---+\n",
      "only showing top 20 rows\n",
      "\n"
     ]
    }
   ],
   "source": [
    "sqlContext.sql(\"\"\"SELECT a.userid,a.age FROM user_table a,user_table b \n",
    "                    where a.age <= b.age OR (a.age=b.age AND a.userid = b.userid)\n",
    "                    GROUP BY a.userid, a.age\n",
    "                    ORDER BY a.age DESC, a.userid DESC\"\"\").show()"
   ]
  },
  {
   "cell_type": "code",
   "execution_count": 25,
   "metadata": {
    "scrolled": false
   },
   "outputs": [
    {
     "name": "stdout",
     "output_type": "stream",
     "text": [
      "+------+---+\n",
      "|userid|age|\n",
      "+------+---+\n",
      "|   481| 73|\n",
      "|   860| 70|\n",
      "|   803| 70|\n",
      "|   767| 70|\n",
      "|   585| 69|\n",
      "|   559| 69|\n",
      "|   573| 68|\n",
      "|   349| 68|\n",
      "|   211| 66|\n",
      "|   651| 65|\n",
      "|   564| 65|\n",
      "|   318| 65|\n",
      "|   845| 64|\n",
      "|   423| 64|\n",
      "|   858| 63|\n",
      "|   777| 63|\n",
      "|   364| 63|\n",
      "|   520| 62|\n",
      "|   266| 62|\n",
      "|   934| 61|\n",
      "+------+---+\n",
      "only showing top 20 rows\n",
      "\n"
     ]
    }
   ],
   "source": [
    "sqlContext.sql(\"\"\"SELECT a.userid,a.age FROM user_table a,user_table b \n",
    "                    where a.age <= b.age OR (a.age=b.age AND a.userid = b.userid)\n",
    "                    GROUP BY a.userid, a.age\n",
    "                    ORDER BY a.age DESC, a.userid DESC\"\"\").show()"
   ]
  },
  {
   "cell_type": "code",
   "execution_count": 26,
   "metadata": {},
   "outputs": [
    {
     "name": "stdout",
     "output_type": "stream",
     "text": [
      "+------+---+------+---+\n",
      "|userid|age|userid|age|\n",
      "+------+---+------+---+\n",
      "|     1| 24|    24| 21|\n",
      "|     1| 24|    35| 20|\n",
      "|     1| 24|    36| 19|\n",
      "|     1| 24|    49| 23|\n",
      "|     1| 24|    52| 18|\n",
      "|     1| 24|   150| 20|\n",
      "|     1| 24|   159| 23|\n",
      "|     1| 24|   165| 20|\n",
      "|     1| 24|   180| 22|\n",
      "|     1| 24|   198| 21|\n",
      "|     1| 24|   206| 14|\n",
      "|     1| 24|   223| 19|\n",
      "|     1| 24|   228| 21|\n",
      "|     1| 24|   240| 23|\n",
      "|     1| 24|   258| 19|\n",
      "|     1| 24|   262| 19|\n",
      "|     1| 24|   270| 18|\n",
      "|     1| 24|   274| 20|\n",
      "|     1| 24|   281| 15|\n",
      "|     1| 24|   304| 22|\n",
      "+------+---+------+---+\n",
      "only showing top 20 rows\n",
      "\n"
     ]
    }
   ],
   "source": [
    "sqlContext.sql(\"\"\"SELECT a.userid,a.age,b.userid,b.age FROM user_table a,user_table b \n",
    "                    where a.gender!=b.gender \n",
    "                    AND a.age > b.age\n",
    "                    AND a.userid != b.userid\"\"\").show()"
   ]
  },
  {
   "cell_type": "code",
   "execution_count": null,
   "metadata": {},
   "outputs": [],
   "source": []
  }
 ],
 "metadata": {
  "kernelspec": {
   "display_name": "Python 3",
   "language": "python",
   "name": "python3"
  },
  "language_info": {
   "codemirror_mode": {
    "name": "ipython",
    "version": 3
   },
   "file_extension": ".py",
   "mimetype": "text/x-python",
   "name": "python",
   "nbconvert_exporter": "python",
   "pygments_lexer": "ipython3",
   "version": "3.8.5"
  }
 },
 "nbformat": 4,
 "nbformat_minor": 4
}
